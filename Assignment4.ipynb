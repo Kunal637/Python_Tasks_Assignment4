{
 "cells": [
  {
   "cell_type": "markdown",
   "id": "ffbf214c",
   "metadata": {},
   "source": [
    "# List"
   ]
  },
  {
   "cell_type": "code",
   "execution_count": 3,
   "id": "08896d10",
   "metadata": {},
   "outputs": [
    {
     "name": "stdout",
     "output_type": "stream",
     "text": [
      "Dear Kunal, you are invited to dinner.\n",
      "Dear Kirtan, you are invited to dinner.\n",
      "Dear Ali, you are invited to dinner.\n"
     ]
    }
   ],
   "source": [
    "# Exercise 4-1: Guest List\n",
    "guests = [\"Kunal\", \"Kirtan\", \"Ali\"]\n",
    "\n",
    "# Print invitation messages\n",
    "for guest in guests:\n",
    "    print(f\"Dear {guest}, you are invited to dinner.\")"
   ]
  },
  {
   "cell_type": "code",
   "execution_count": 4,
   "id": "1228d152",
   "metadata": {},
   "outputs": [
    {
     "name": "stdout",
     "output_type": "stream",
     "text": [
      "\n",
      "Unfortunately, Kirtan can't make it to the dinner.\n",
      "\n",
      "Dear Kunal, you are invited to dinner.\n",
      "Dear Darpan, you are invited to dinner.\n",
      "Dear Ali, you are invited to dinner.\n"
     ]
    }
   ],
   "source": [
    "# Exercise 4-2: Changing Guest List\n",
    "guests = [\"Kunal\", \"Kirtan\", \"Ali\"]\n",
    "\n",
    "# One guest can't make it\n",
    "print(f\"\\nUnfortunately, {guests[1]} can't make it to the dinner.\\n\")\n",
    "\n",
    "# Replace the guest who can't make it with a new guest\n",
    "guests[1] = \"Darpan\"\n",
    "\n",
    "# Print the new set of invitation messages\n",
    "for guest in guests:\n",
    "    print(f\"Dear {guest}, you are invited to dinner.\")\n"
   ]
  },
  {
   "cell_type": "code",
   "execution_count": 5,
   "id": "99bbbd8e",
   "metadata": {},
   "outputs": [
    {
     "name": "stdout",
     "output_type": "stream",
     "text": [
      "\n",
      "Great news! We found a bigger dinner table, so now we can invite more guests.\n",
      "\n",
      "Dear Rahul, you are invited to dinner.\n",
      "Dear Kunal, you are invited to dinner.\n",
      "Dear Sana, you are invited to dinner.\n",
      "Dear Darpan, you are invited to dinner.\n",
      "Dear Ali, you are invited to dinner.\n",
      "Dear Vikram, you are invited to dinner.\n"
     ]
    }
   ],
   "source": [
    "# Exercise 4-3: More Guests\n",
    "guests = [\"Kunal\", \"Darpan\", \"Ali\"]\n",
    "\n",
    "print(\"\\nGreat news! We found a bigger dinner table, so now we can invite more guests.\\n\")\n",
    "\n",
    "# Add three more guests\n",
    "guests.insert(0, \"Rahul\")\n",
    "guests.insert(2, \"Sana\")\n",
    "guests.append(\"Vikram\")\n",
    "\n",
    "# Print the new set of invitation messages\n",
    "for guest in guests:\n",
    "    print(f\"Dear {guest}, you are invited to dinner.\")\n"
   ]
  },
  {
   "cell_type": "code",
   "execution_count": 6,
   "id": "be94f1fd",
   "metadata": {},
   "outputs": [
    {
     "name": "stdout",
     "output_type": "stream",
     "text": [
      "\n",
      "Unfortunately, our new dinner table won't arrive in time. We can invite only two people for dinner.\n",
      "\n",
      "Sorry Vikram, we can't invite you to dinner.\n",
      "Sorry Ali, we can't invite you to dinner.\n",
      "Sorry Darpan, we can't invite you to dinner.\n",
      "Sorry Sana, we can't invite you to dinner.\n",
      "Dear Rahul, you are still invited to dinner.\n",
      "Dear Kunal, you are still invited to dinner.\n",
      "\n",
      "Final guest list: []\n"
     ]
    }
   ],
   "source": [
    "# Exercise 4-4: Shrinking Guest List\n",
    "guests = [\"Rahul\", \"Kunal\", \"Sana\", \"Darpan\", \"Ali\", \"Vikram\"]\n",
    "\n",
    "print(\"\\nUnfortunately, our new dinner table won't arrive in time. We can invite only two people for dinner.\\n\")\n",
    "\n",
    "# Remove guests until only two remain\n",
    "while len(guests) > 2:\n",
    "    removed_guest = guests.pop()\n",
    "    print(f\"Sorry {removed_guest}, we can't invite you to dinner.\")\n",
    "\n",
    "# Print messages to the two remaining guests\n",
    "for guest in guests:\n",
    "    print(f\"Dear {guest}, you are still invited to dinner.\")\n",
    "\n",
    "# Remove the last two names to have an empty list\n",
    "del guests[:]\n",
    "\n",
    "# Print the final empty list\n",
    "print(\"\\nFinal guest list:\", guests)\n"
   ]
  },
  {
   "cell_type": "code",
   "execution_count": 7,
   "id": "6902b0ab",
   "metadata": {},
   "outputs": [
    {
     "name": "stdout",
     "output_type": "stream",
     "text": [
      "Entire list: ['Kunal', 'Kirtan', 'Ali', 'Darpan', 'Rahul', 'Sana', 'Vikram']\n",
      "First item: Kunal\n",
      "Last item: Vikram\n",
      "Slice (index 1 to 3): ['Kirtan', 'Ali', 'Darpan']\n",
      "Slice (start to index 3): ['Kunal', 'Kirtan', 'Ali', 'Darpan']\n",
      "Slice (index 3 to end): ['Darpan', 'Rahul', 'Sana', 'Vikram']\n",
      "Every second item: ['Kunal', 'Ali', 'Rahul', 'Vikram']\n",
      "Reversed list: ['Vikram', 'Sana', 'Rahul', 'Darpan', 'Ali', 'Kirtan', 'Kunal']\n"
     ]
    }
   ],
   "source": [
    "# Exercise 4-5: Indexing and Slicing Operations\n",
    "wish_list = [\"Kunal\", \"Kirtan\", \"Ali\", \"Darpan\", \"Rahul\", \"Sana\", \"Vikram\"]\n",
    "\n",
    "# Print the entire list\n",
    "print(\"Entire list:\", wish_list)\n",
    "\n",
    "# Print the first item\n",
    "print(\"First item:\", wish_list[0])\n",
    "\n",
    "# Print the last item\n",
    "print(\"Last item:\", wish_list[-1])\n",
    "\n",
    "# Print a slice of the list (from index 1 to 3)\n",
    "print(\"Slice (index 1 to 3):\", wish_list[1:4])\n",
    "\n",
    "# Print a slice of the list (from start to index 3)\n",
    "print(\"Slice (start to index 3):\", wish_list[:4])\n",
    "\n",
    "# Print a slice of the list (from index 3 to end)\n",
    "print(\"Slice (index 3 to end):\", wish_list[3:])\n",
    "\n",
    "# Print every second item in the list\n",
    "print(\"Every second item:\", wish_list[::2])\n",
    "\n",
    "# Print the list in reverse order\n",
    "print(\"Reversed list:\", wish_list[::-1])\n"
   ]
  },
  {
   "cell_type": "code",
   "execution_count": null,
   "id": "476e97f4",
   "metadata": {},
   "outputs": [],
   "source": []
  }
 ],
 "metadata": {
  "kernelspec": {
   "display_name": "Python 3 (ipykernel)",
   "language": "python",
   "name": "python3"
  },
  "language_info": {
   "codemirror_mode": {
    "name": "ipython",
    "version": 3
   },
   "file_extension": ".py",
   "mimetype": "text/x-python",
   "name": "python",
   "nbconvert_exporter": "python",
   "pygments_lexer": "ipython3",
   "version": "3.9.13"
  }
 },
 "nbformat": 4,
 "nbformat_minor": 5
}
